{
 "cells": [
  {
   "cell_type": "code",
   "execution_count": 1,
   "id": "8d8162db",
   "metadata": {},
   "outputs": [
    {
     "name": "stdout",
     "output_type": "stream",
     "text": [
      " * Serving Flask app \"__main__\" (lazy loading)\n",
      " * Environment: production\n",
      "\u001b[31m   WARNING: This is a development server. Do not use it in a production deployment.\u001b[0m\n",
      "\u001b[2m   Use a production WSGI server instead.\u001b[0m\n",
      " * Debug mode: off\n"
     ]
    },
    {
     "name": "stderr",
     "output_type": "stream",
     "text": [
      " * Running on http://127.0.0.1:5000/ (Press CTRL+C to quit)\n",
      "127.0.0.1 - - [09/Apr/2025 11:01:57] \"\u001b[37mPOST //predict HTTP/1.1\u001b[0m\" 200 -\n"
     ]
    }
   ],
   "source": [
    "from flask import Flask, jsonify, request\n",
    "import joblib\n",
    "import spacy\n",
    "import re\n",
    "from pathlib import Path\n",
    "\n",
    "app = Flask(__name__)\n",
    "\n",
    "\n",
    "model = joblib.load(\"models/ensemble_model.joblib\")\n",
    "vectorizer = joblib.load(\"models/vectorizer.joblib\")\n",
    "label_encoder = joblib.load(\"models/label_encoder.joblib\")\n",
    "nlp = spacy.load(\"en_core_web_sm\")\n",
    "\n",
    "# Preprocessing\n",
    "def clean_and_lemmatize(text):\n",
    "    text = text.lower()\n",
    "    text = re.sub(r'[^a-zA-Z\\s]', '', text)\n",
    "    doc = nlp(text)\n",
    "    tokens = [token.lemma_ for token in doc if not token.is_stop and token.is_alpha and len(token) > 2]\n",
    "    return \" \".join(tokens)\n",
    "\n",
    "# Predict\n",
    "def predict(description):\n",
    "    cleaned = clean_and_lemmatize(description)\n",
    "    features = vectorizer.transform([cleaned])\n",
    "    label_index = model.predict(features)[0]\n",
    "    label = label_encoder.inverse_transform([label_index])[0]\n",
    "    return label\n",
    "\n",
    "@app.route(\"/predict\", methods=[\"POST\"])\n",
    "def identify_condition():\n",
    "    try:\n",
    "        data = request.get_json(force=True)\n",
    "        description = data.get(\"description\", \"\")\n",
    "        if not description:\n",
    "            return jsonify({\"error\": \"Missing 'description' in request\"}), 400\n",
    "        prediction = predict(description)\n",
    "        return jsonify({\"prediction\": prediction})\n",
    "    except Exception as e:\n",
    "        return jsonify({\"error\": str(e)}), 500\n",
    "\n",
    "@app.route(\"/\")\n",
    "def home():\n",
    "    return \"Clinical Trial Classifier API is running.\"\n",
    "\n",
    "if __name__ == \"__main__\":\n",
    "    app.run(debug=False, host=\"127.0.0.1\", port=5000)"
   ]
  },
  {
   "cell_type": "code",
   "execution_count": null,
   "id": "b244ae04",
   "metadata": {},
   "outputs": [],
   "source": []
  }
 ],
 "metadata": {
  "kernelspec": {
   "display_name": "Python 3",
   "language": "python",
   "name": "python3"
  },
  "language_info": {
   "codemirror_mode": {
    "name": "ipython",
    "version": 3
   },
   "file_extension": ".py",
   "mimetype": "text/x-python",
   "name": "python",
   "nbconvert_exporter": "python",
   "pygments_lexer": "ipython3",
   "version": "3.8.8"
  }
 },
 "nbformat": 4,
 "nbformat_minor": 5
}
