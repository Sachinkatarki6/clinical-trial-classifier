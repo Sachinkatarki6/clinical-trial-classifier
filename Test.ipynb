{
 "cells": [
  {
   "cell_type": "code",
   "execution_count": 1,
   "id": "e2894ad0",
   "metadata": {},
   "outputs": [
    {
     "name": "stdout",
     "output_type": "stream",
     "text": [
      "Calling API with test description:\n",
      "Response: \n",
      "200\n",
      "{'prediction': 'Dementia'}\n"
     ]
    }
   ],
   "source": [
    "import json\n",
    "import requests\n",
    "\n",
    "BASE_URL = \"http://127.0.0.1:5000/\"\n",
    "\n",
    "# You can use this function to test your api\n",
    "# Make sure the server is running locally on BASE_URL`\n",
    "# or change the hardcoded localhost above\n",
    "\n",
    "def test_predict():\n",
    "    \"\"\"\n",
    "    Test the predict route with test data\n",
    "    \"\"\"\n",
    "    test_description = {\"description\": \"this is a test description about Dementia\"}\n",
    "    print(\"Calling API with test description:\")\n",
    "    response = requests.post(f\"{BASE_URL}/predict\", data=json.dumps(test_description))\n",
    "    print(\"Response: \")\n",
    "    print(response.status_code)\n",
    "    print(response.json())\n",
    "    assert response.status_code == 200\n",
    "\n",
    "\n",
    "if __name__ == \"__main__\":\n",
    "    test_predict()"
   ]
  },
  {
   "cell_type": "code",
   "execution_count": null,
   "id": "32d8e58e",
   "metadata": {},
   "outputs": [],
   "source": []
  }
 ],
 "metadata": {
  "kernelspec": {
   "display_name": "Python 3",
   "language": "python",
   "name": "python3"
  },
  "language_info": {
   "codemirror_mode": {
    "name": "ipython",
    "version": 3
   },
   "file_extension": ".py",
   "mimetype": "text/x-python",
   "name": "python",
   "nbconvert_exporter": "python",
   "pygments_lexer": "ipython3",
   "version": "3.8.8"
  }
 },
 "nbformat": 4,
 "nbformat_minor": 5
}
